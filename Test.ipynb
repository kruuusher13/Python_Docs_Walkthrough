{
 "cells": [
  {
   "cell_type": "code",
   "execution_count": 2,
   "id": "2bf0cc5f-7798-48b5-bba2-c4de3e324d02",
   "metadata": {},
   "outputs": [
    {
     "name": "stdout",
     "output_type": "stream",
     "text": [
      "Requirement already satisfied: matplotlib in /Users/hornet/miniforge3/envs/test/lib/python3.13/site-packages (3.10.5)\n",
      "Requirement already satisfied: contourpy>=1.0.1 in /Users/hornet/miniforge3/envs/test/lib/python3.13/site-packages (from matplotlib) (1.3.3)\n",
      "Requirement already satisfied: cycler>=0.10 in /Users/hornet/miniforge3/envs/test/lib/python3.13/site-packages (from matplotlib) (0.12.1)\n",
      "Requirement already satisfied: fonttools>=4.22.0 in /Users/hornet/miniforge3/envs/test/lib/python3.13/site-packages (from matplotlib) (4.59.1)\n",
      "Requirement already satisfied: kiwisolver>=1.3.1 in /Users/hornet/miniforge3/envs/test/lib/python3.13/site-packages (from matplotlib) (1.4.9)\n",
      "Requirement already satisfied: numpy>=1.23 in /Users/hornet/miniforge3/envs/test/lib/python3.13/site-packages (from matplotlib) (2.3.2)\n",
      "Requirement already satisfied: packaging>=20.0 in /Users/hornet/miniforge3/envs/test/lib/python3.13/site-packages (from matplotlib) (25.0)\n",
      "Requirement already satisfied: pillow>=8 in /Users/hornet/miniforge3/envs/test/lib/python3.13/site-packages (from matplotlib) (11.3.0)\n",
      "Requirement already satisfied: pyparsing>=2.3.1 in /Users/hornet/miniforge3/envs/test/lib/python3.13/site-packages (from matplotlib) (3.2.3)\n",
      "Requirement already satisfied: python-dateutil>=2.7 in /Users/hornet/miniforge3/envs/test/lib/python3.13/site-packages (from matplotlib) (2.9.0.post0)\n",
      "Requirement already satisfied: six>=1.5 in /Users/hornet/miniforge3/envs/test/lib/python3.13/site-packages (from python-dateutil>=2.7->matplotlib) (1.17.0)\n",
      "Requirement already satisfied: numpy in /Users/hornet/miniforge3/envs/test/lib/python3.13/site-packages (2.3.2)\n",
      "Collecting pandas\n",
      "  Using cached pandas-2.3.1-cp313-cp313-macosx_11_0_arm64.whl.metadata (91 kB)\n",
      "Requirement already satisfied: numpy>=1.26.0 in /Users/hornet/miniforge3/envs/test/lib/python3.13/site-packages (from pandas) (2.3.2)\n",
      "Requirement already satisfied: python-dateutil>=2.8.2 in /Users/hornet/miniforge3/envs/test/lib/python3.13/site-packages (from pandas) (2.9.0.post0)\n",
      "Collecting pytz>=2020.1 (from pandas)\n",
      "  Using cached pytz-2025.2-py2.py3-none-any.whl.metadata (22 kB)\n",
      "Collecting tzdata>=2022.7 (from pandas)\n",
      "  Using cached tzdata-2025.2-py2.py3-none-any.whl.metadata (1.4 kB)\n",
      "Requirement already satisfied: six>=1.5 in /Users/hornet/miniforge3/envs/test/lib/python3.13/site-packages (from python-dateutil>=2.8.2->pandas) (1.17.0)\n",
      "Using cached pandas-2.3.1-cp313-cp313-macosx_11_0_arm64.whl (10.7 MB)\n",
      "Using cached pytz-2025.2-py2.py3-none-any.whl (509 kB)\n",
      "Using cached tzdata-2025.2-py2.py3-none-any.whl (347 kB)\n",
      "Installing collected packages: pytz, tzdata, pandas\n",
      "\u001b[2K   \u001b[90m━━━━━━━━━━━━━━━━━━━━━━━━━━━━━━━━━━━━━━━━\u001b[0m \u001b[32m3/3\u001b[0m [pandas]2m2/3\u001b[0m [pandas]\n",
      "\u001b[1A\u001b[2KSuccessfully installed pandas-2.3.1 pytz-2025.2 tzdata-2025.2\n",
      "Requirement already satisfied: IPython in /Users/hornet/miniforge3/envs/test/lib/python3.13/site-packages (9.4.0)\n",
      "Requirement already satisfied: decorator in /Users/hornet/miniforge3/envs/test/lib/python3.13/site-packages (from IPython) (5.2.1)\n",
      "Requirement already satisfied: ipython-pygments-lexers in /Users/hornet/miniforge3/envs/test/lib/python3.13/site-packages (from IPython) (1.1.1)\n",
      "Requirement already satisfied: jedi>=0.16 in /Users/hornet/miniforge3/envs/test/lib/python3.13/site-packages (from IPython) (0.19.2)\n",
      "Requirement already satisfied: matplotlib-inline in /Users/hornet/miniforge3/envs/test/lib/python3.13/site-packages (from IPython) (0.1.7)\n",
      "Requirement already satisfied: pexpect>4.3 in /Users/hornet/miniforge3/envs/test/lib/python3.13/site-packages (from IPython) (4.9.0)\n",
      "Requirement already satisfied: prompt_toolkit<3.1.0,>=3.0.41 in /Users/hornet/miniforge3/envs/test/lib/python3.13/site-packages (from IPython) (3.0.51)\n",
      "Requirement already satisfied: pygments>=2.4.0 in /Users/hornet/miniforge3/envs/test/lib/python3.13/site-packages (from IPython) (2.19.2)\n",
      "Requirement already satisfied: stack_data in /Users/hornet/miniforge3/envs/test/lib/python3.13/site-packages (from IPython) (0.6.3)\n",
      "Requirement already satisfied: traitlets>=5.13.0 in /Users/hornet/miniforge3/envs/test/lib/python3.13/site-packages (from IPython) (5.14.3)\n",
      "Requirement already satisfied: wcwidth in /Users/hornet/miniforge3/envs/test/lib/python3.13/site-packages (from prompt_toolkit<3.1.0,>=3.0.41->IPython) (0.2.13)\n",
      "Requirement already satisfied: parso<0.9.0,>=0.8.4 in /Users/hornet/miniforge3/envs/test/lib/python3.13/site-packages (from jedi>=0.16->IPython) (0.8.4)\n",
      "Requirement already satisfied: ptyprocess>=0.5 in /Users/hornet/miniforge3/envs/test/lib/python3.13/site-packages (from pexpect>4.3->IPython) (0.7.0)\n",
      "Requirement already satisfied: executing>=1.2.0 in /Users/hornet/miniforge3/envs/test/lib/python3.13/site-packages (from stack_data->IPython) (2.2.0)\n",
      "Requirement already satisfied: asttokens>=2.1.0 in /Users/hornet/miniforge3/envs/test/lib/python3.13/site-packages (from stack_data->IPython) (3.0.0)\n",
      "Requirement already satisfied: pure-eval in /Users/hornet/miniforge3/envs/test/lib/python3.13/site-packages (from stack_data->IPython) (0.2.3)\n",
      "Collecting SciPy\n",
      "  Downloading scipy-1.16.1-cp313-cp313-macosx_14_0_arm64.whl.metadata (61 kB)\n",
      "Requirement already satisfied: numpy<2.6,>=1.25.2 in /Users/hornet/miniforge3/envs/test/lib/python3.13/site-packages (from SciPy) (2.3.2)\n",
      "Downloading scipy-1.16.1-cp313-cp313-macosx_14_0_arm64.whl (20.8 MB)\n",
      "\u001b[2K   \u001b[90m━━━━━━━━━━━━━━━━━━━━━━━━━━━━━━━━━━━━━━━━\u001b[0m \u001b[32m20.8/20.8 MB\u001b[0m \u001b[31m11.2 MB/s\u001b[0m  \u001b[33m0:00:01\u001b[0mm0:00:01\u001b[0m00:01\u001b[0m\n",
      "\u001b[?25hInstalling collected packages: SciPy\n",
      "Successfully installed SciPy-1.16.1\n"
     ]
    }
   ],
   "source": [
    "! pip install matplotlib\n",
    "! pip install numpy\n",
    "! pip install pandas\n",
    "! pip install IPython\n",
    "! pip install SciPy\n",
    "\n",
    "\n",
    "\n"
   ]
  },
  {
   "cell_type": "code",
   "execution_count": 3,
   "id": "9bfa9f85-bb31-46aa-bbb2-032909d53d96",
   "metadata": {},
   "outputs": [],
   "source": [
    "import pandas\n"
   ]
  },
  {
   "cell_type": "code",
   "execution_count": 2,
   "id": "6ccae271-b0cb-4614-ac30-c0fc1887d637",
   "metadata": {},
   "outputs": [
    {
     "data": {
      "image/png": "[encoded data removed]",
      "text/plain": [
       "<Figure size 640x480 with 1 Axes>"
      ]
     },
     "metadata": {},
     "output_type": "display_data"
    }
   ],
   "source": [
    "import matplotlib.pyplot as plt\n",
    "import numpy as np\n",
    "\n",
    "plt.plot(np.arange(10))\n",
    "plt.show()  \n"
   ]
  },
  {
   "cell_type": "code",
   "execution_count": null,
   "id": "5a95ec3c-a012-4e83-ae2e-f0bbf1aca8e7",
   "metadata": {},
   "outputs": [],
   "source": []
  }
 ],
 "metadata": {
  "kernelspec": {
   "display_name": "Python 3 (ipykernel)",
   "language": "python",
   "name": "python3"
  },
  "language_info": {
   "codemirror_mode": {
    "name": "ipython",
    "version": 3
   },
   "file_extension": ".py",
   "mimetype": "text/x-python",
   "name": "python",
   "nbconvert_exporter": "python",
   "pygments_lexer": "ipython3",
   "version": "3.13.5"
  }
 },
 "nbformat": 4,
 "nbformat_minor": 5
}
