{
 "cells": [
  {
   "cell_type": "markdown",
   "id": "22b15321-be9f-406a-ba6e-5287f914d37b",
   "metadata": {},
   "source": [
    "4.1. if Statements\n"
   ]
  },
  {
   "cell_type": "code",
   "execution_count": 1,
   "id": "c45ef9d5-3b87-4a86-ab97-a2868b866aa4",
   "metadata": {},
   "outputs": [
    {
     "name": "stdin",
     "output_type": "stream",
     "text": [
      "Please enter an integer:  42\n"
     ]
    }
   ],
   "source": [
    "x = int(input(\"Please enter an integer: \"))"
   ]
  },
  {
   "cell_type": "code",
   "execution_count": 2,
   "id": "bfdb0056-aa76-4e00-882b-ca186b068b51",
   "metadata": {},
   "outputs": [
    {
     "name": "stdout",
     "output_type": "stream",
     "text": [
      "More\n"
     ]
    }
   ],
   "source": [
    "if x < 0:\n",
    "    x = 0\n",
    "    print('Negative changed to zero')\n",
    "elif x == 0:\n",
    "    print('Zero')\n",
    "elif x == 1:\n",
    "    print('Single')\n",
    "else:\n",
    "    print('More')"
   ]
  },
  {
   "cell_type": "markdown",
   "id": "d0296d95-0309-49e0-8bd4-ce9f66171404",
   "metadata": {},
   "source": [
    "4.2. for Statements"
   ]
  },
  {
   "cell_type": "code",
   "execution_count": 3,
   "id": "45209ca6-c931-48da-9e5c-f6e667273cc0",
   "metadata": {},
   "outputs": [
    {
     "name": "stdout",
     "output_type": "stream",
     "text": [
      "cat 3\n",
      "window 6\n",
      "defenestrate 12\n"
     ]
    }
   ],
   "source": [
    "words = ['cat', 'window', 'defenestrate']\n",
    "for w in words:\n",
    "    print(w, len(w))"
   ]
  },
  {
   "cell_type": "code",
   "execution_count": 5,
   "id": "b85d55a3-736f-4ba0-b864-e108b344ce95",
   "metadata": {},
   "outputs": [
    {
     "name": "stdout",
     "output_type": "stream",
     "text": [
      "{'Hans': 'active', '景太郎': 'active'}\n",
      "{'Hans': 'active', '景太郎': 'active'}\n"
     ]
    }
   ],
   "source": [
    "# Create a sample collection\n",
    "users = {'Hans': 'active', 'Éléonore': 'inactive', '景太郎': 'active'}\n",
    "\n",
    "# Strategy:  Iterate over a copy\n",
    "for user, status in users.copy().items():\n",
    "    if status == 'inactive':\n",
    "        del users[user]\n",
    "\n",
    "# Strategy:  Create a new collection\n",
    "active_users = {}\n",
    "for user, status in users.items():\n",
    "    if status == 'active':\n",
    "        active_users[user] = status\n",
    "\n",
    "print(users)\n",
    "print(active_users)"
   ]
  },
  {
   "cell_type": "markdown",
   "id": "a9564d23-0b98-49fa-9a13-703d291d48b1",
   "metadata": {},
   "source": [
    "4.3. The range() Function"
   ]
  },
  {
   "cell_type": "code",
   "execution_count": 6,
   "id": "0eb548d6-eeba-4e21-b751-43a2dd701768",
   "metadata": {},
   "outputs": [
    {
     "name": "stdout",
     "output_type": "stream",
     "text": [
      "0\n",
      "1\n",
      "2\n",
      "3\n",
      "4\n"
     ]
    }
   ],
   "source": [
    "for i in range(5):\n",
    "    print(i)"
   ]
  },
  {
   "cell_type": "code",
   "execution_count": 7,
   "id": "21fc6144-670e-4660-a911-133514a8f71a",
   "metadata": {},
   "outputs": [
    {
     "data": {
      "text/plain": [
       "[5, 6, 7, 8, 9]"
      ]
     },
     "execution_count": 7,
     "metadata": {},
     "output_type": "execute_result"
    }
   ],
   "source": [
    "list(range(5,10))"
   ]
  },
  {
   "cell_type": "code",
   "execution_count": 8,
   "id": "a5b07ebe-e12b-4871-910c-9e54af0b0ff6",
   "metadata": {},
   "outputs": [
    {
     "data": {
      "text/plain": [
       "[0, 3, 6, 9]"
      ]
     },
     "execution_count": 8,
     "metadata": {},
     "output_type": "execute_result"
    }
   ],
   "source": [
    "list (range (0, 10, 3))"
   ]
  },
  {
   "cell_type": "code",
   "execution_count": 11,
   "id": "464eed2b-bc62-4eec-a9b6-1bc6795c4fbe",
   "metadata": {},
   "outputs": [
    {
     "name": "stdout",
     "output_type": "stream",
     "text": [
      "0 Mary\n",
      "1 had\n",
      "2 a\n",
      "3 little\n",
      "4 lamb\n"
     ]
    }
   ],
   "source": [
    "a = ['Mary', 'had', 'a', 'little', 'lamb']\n",
    "for words in range(len(a)):\n",
    "    print(words, a[words])"
   ]
  },
  {
   "cell_type": "code",
   "execution_count": 12,
   "id": "7a42fac5-8e52-4e13-8e8b-d7806ecd98d6",
   "metadata": {},
   "outputs": [
    {
     "data": {
      "text/plain": [
       "range(0, 10)"
      ]
     },
     "execution_count": 12,
     "metadata": {},
     "output_type": "execute_result"
    }
   ],
   "source": [
    "range (10)"
   ]
  },
  {
   "cell_type": "code",
   "execution_count": 13,
   "id": "eac44a57-22a6-4085-ae66-dc34aa6c86ec",
   "metadata": {},
   "outputs": [
    {
     "data": {
      "text/plain": [
       "6"
      ]
     },
     "execution_count": 13,
     "metadata": {},
     "output_type": "execute_result"
    }
   ],
   "source": [
    "sum(range (4) )"
   ]
  },
  {
   "cell_type": "markdown",
   "id": "6340db70-fcce-4c07-9573-740fb1a9bd52",
   "metadata": {},
   "source": [
    "4.4. break and continue Statements"
   ]
  },
  {
   "cell_type": "code",
   "execution_count": 15,
   "id": "1ff77626-b604-422b-bc22-40415b2a2f1b",
   "metadata": {},
   "outputs": [
    {
     "name": "stdout",
     "output_type": "stream",
     "text": [
      "4 equals 2 * 2\n",
      "6 equals 2 * 3\n",
      "8 equals 2 * 4\n",
      "9 equals 3 * 3\n"
     ]
    }
   ],
   "source": [
    "for n in range(2,10):\n",
    "    for x in range(2,n):\n",
    "        if n % x == 0:\n",
    "            print(f\"{n} equals {x} * {n//x}\")\n",
    "            break\n",
    "            "
   ]
  },
  {
   "cell_type": "code",
   "execution_count": 1,
   "id": "df01090a-a374-49a0-a693-49e6b181ff66",
   "metadata": {},
   "outputs": [
    {
     "name": "stdout",
     "output_type": "stream",
     "text": [
      "2 is even\n",
      "3 is odd\n",
      "4 is even\n",
      "5 is odd\n",
      "6 is even\n",
      "7 is odd\n",
      "8 is even\n",
      "9 is odd\n"
     ]
    }
   ],
   "source": [
    "for num in range(2,10):\n",
    "    if num % 2 == 0:\n",
    "        print(f\"{num} is even\")\n",
    "        continue\n",
    "    print(f\"{num} is odd\")\n",
    "    "
   ]
  },
  {
   "cell_type": "markdown",
   "id": "548d20a1-93d0-4f88-afe8-dcc0f58df670",
   "metadata": {},
   "source": [
    "4.5. else Clauses on Loops"
   ]
  },
  {
   "cell_type": "code",
   "execution_count": 2,
   "id": "393d8d50-46f0-4204-aa9a-c2e22a5ba276",
   "metadata": {},
   "outputs": [
    {
     "name": "stdout",
     "output_type": "stream",
     "text": [
      "2 is a prime number\n",
      "3 is a prime number\n",
      "4 equals 2 * 2\n",
      "5 is a prime number\n",
      "6 equals 2 * 3\n",
      "7 is a prime number\n",
      "8 equals 2 * 4\n",
      "9 equals 3 * 3\n"
     ]
    }
   ],
   "source": [
    "for n in range(2, 10):\n",
    "    for x in range(2, n):\n",
    "        if n % x == 0:\n",
    "            print(n, 'equals', x, '*', n//x)\n",
    "            break\n",
    "    else:\n",
    "        # loop fell through without finding a factor\n",
    "        print(n, 'is a prime number')\n",
    "\n",
    "        \n",
    "            "
   ]
  },
  {
   "cell_type": "markdown",
   "id": "729ea1df-88e1-4c48-977f-7f94b199ae03",
   "metadata": {},
   "source": [
    "4.6. pass Statements"
   ]
  },
  {
   "cell_type": "code",
   "execution_count": null,
   "id": "7dfaa4d1-0fee-422e-9824-36164788d561",
   "metadata": {},
   "outputs": [],
   "source": [
    "while True:\n",
    "    pass  # Busy-wait for keyboard interrupt (Ctrl+C)\n"
   ]
  },
  {
   "cell_type": "markdown",
   "id": "7dd79edf-fdb9-46da-b6d9-9395680b3b3b",
   "metadata": {},
   "source": [
    "4.7. match Statements"
   ]
  },
  {
   "cell_type": "code",
   "execution_count": 3,
   "id": "e47c09ba-c497-45e3-b498-5a4c49eb7654",
   "metadata": {},
   "outputs": [
    {
     "name": "stdout",
     "output_type": "stream",
     "text": [
      "20 is a multiple of 10\n",
      "No match\n"
     ]
    }
   ],
   "source": [
    "def number_check(x):\n",
    "    match x:\n",
    "        case 10 | 20 | 30:\n",
    "            print(f\"{x} is a multiple of 10\")\n",
    "        case _:\n",
    "            print(\"No match\")\n",
    "\n",
    "number_check(20)  # Output: 20 is a multiple of 10\n",
    "number_check(15)  # Output: No match\n"
   ]
  },
  {
   "cell_type": "code",
   "execution_count": 8,
   "id": "587936f1-648d-4e07-a646-57399954283e",
   "metadata": {},
   "outputs": [
    {
     "name": "stdout",
     "output_type": "stream",
     "text": [
      "X=-3\n"
     ]
    }
   ],
   "source": [
    "point = (-3, 0)\n",
    "\n",
    "match point:\n",
    "    case (0, 0):\n",
    "        print(\"Origin\")\n",
    "    case (0, y):\n",
    "        print(f\"Y={y}\")\n",
    "    case (x, 0):\n",
    "        print(f\"X={x}\")\n",
    "    case (x, y):\n",
    "        print(f\"X={x}, Y={y}\")\n",
    "    case _:\n",
    "        raise ValueError(\"Not a point\")"
   ]
  },
  {
   "cell_type": "code",
   "execution_count": 9,
   "id": "a52527f9-feaf-4001-bf82-296614936f5f",
   "metadata": {},
   "outputs": [],
   "source": [
    "class Point:\n",
    "    def __init__(self, x, y):\n",
    "        self.x = x\n",
    "        self.y = y\n",
    "\n",
    "def where_is(point):\n",
    "    match point:\n",
    "        case Point(x=0, y=0):\n",
    "            print(\"Origin\")\n",
    "        case Point(x=0, y=y):\n",
    "            print(f\"Y={y}\")\n",
    "        case Point(x=x, y=0):\n",
    "            print(f\"X={x}\")\n",
    "        case Point():\n",
    "            print(\"Somewhere else\")\n",
    "        case _:\n",
    "            print(\"Not a point\")\n"
   ]
  },
  {
   "cell_type": "code",
   "execution_count": 15,
   "id": "2914e521-19cb-4848-a65d-91bfc4c04b34",
   "metadata": {},
   "outputs": [
    {
     "name": "stdout",
     "output_type": "stream",
     "text": [
      "Origin\n"
     ]
    }
   ],
   "source": [
    "X = Point(0, 0)\n",
    "where_is(X)"
   ]
  },
  {
   "cell_type": "code",
   "execution_count": 16,
   "id": "de2d058e-a2ae-4c78-8df6-878b9dbc1a50",
   "metadata": {},
   "outputs": [],
   "source": [
    "match point:\n",
    "    case Point(x, y) if x == y:\n",
    "        print(f\"Y=X at {x}\")\n",
    "    case Point(x, y):\n",
    "        print(f\"Not on the diagonal\")"
   ]
  },
  {
   "cell_type": "code",
   "execution_count": null,
   "id": "6c0b558b-3349-44d3-8b06-e95ed341348b",
   "metadata": {},
   "outputs": [],
   "source": []
  }
 ],
 "metadata": {
  "kernelspec": {
   "display_name": "Python 3 (ipykernel)",
   "language": "python",
   "name": "python3"
  },
  "language_info": {
   "codemirror_mode": {
    "name": "ipython",
    "version": 3
   },
   "file_extension": ".py",
   "mimetype": "text/x-python",
   "name": "python",
   "nbconvert_exporter": "python",
   "pygments_lexer": "ipython3",
   "version": "3.13.5"
  }
 },
 "nbformat": 4,
 "nbformat_minor": 5
}
