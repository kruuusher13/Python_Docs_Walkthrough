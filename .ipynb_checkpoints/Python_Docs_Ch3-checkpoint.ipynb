{
 "cells": [
  {
   "cell_type": "markdown",
   "id": "47b36ec7-3b22-4ce6-b7d6-a038bb91cb0c",
   "metadata": {},
   "source": [
    "Python Docs Ch.3"
   ]
  },
  {
   "cell_type": "code",
   "execution_count": 10,
   "id": "cbcfbe93-c497-4436-85a0-74640993d19c",
   "metadata": {},
   "outputs": [
    {
     "name": "stdout",
     "output_type": "stream",
     "text": [
      "1. # this is not a comment because it's inside quotes\n"
     ]
    }
   ],
   "source": [
    "# this is a comment\n",
    "spam = \"1.\" # and this is also a comment\n",
    "         #and again\n",
    "txt = \"# this is not a comment because it's inside quotes\"\n",
    "print(spam, txt)"
   ]
  },
  {
   "cell_type": "markdown",
   "id": "d27edbf5-7b3b-4133-94b8-408781611f2f",
   "metadata": {},
   "source": [
    "3.1.1 Numbers"
   ]
  },
  {
   "cell_type": "code",
   "execution_count": 14,
   "id": "cad5c604-6e3d-4ce1-ba6b-a8ad8d38d3d0",
   "metadata": {},
   "outputs": [
    {
     "data": {
      "text/plain": [
       "10"
      ]
     },
     "execution_count": 14,
     "metadata": {},
     "output_type": "execute_result"
    }
   ],
   "source": [
    "50 - 20*2"
   ]
  },
  {
   "cell_type": "code",
   "execution_count": 15,
   "id": "89492e67-7541-4364-bea0-c40c786180ca",
   "metadata": {},
   "outputs": [
    {
     "data": {
      "text/plain": [
       "1.6"
      ]
     },
     "execution_count": 15,
     "metadata": {},
     "output_type": "execute_result"
    }
   ],
   "source": [
    "8/5 #Division always returns a floating point integer"
   ]
  },
  {
   "cell_type": "code",
   "execution_count": 16,
   "id": "1b4e5d49-57bd-48f2-ad79-17b3d67bfafa",
   "metadata": {},
   "outputs": [
    {
     "data": {
      "text/plain": [
       "625"
      ]
     },
     "execution_count": 16,
     "metadata": {},
     "output_type": "execute_result"
    }
   ],
   "source": [
    "5**4 # ** can be used to calculate powers"
   ]
  },
  {
   "cell_type": "code",
   "execution_count": 17,
   "id": "c4e03c6f-6c3a-49a9-8164-946d419ae37d",
   "metadata": {},
   "outputs": [
    {
     "data": {
      "text/plain": [
       "24"
      ]
     },
     "execution_count": 17,
     "metadata": {},
     "output_type": "execute_result"
    }
   ],
   "source": [
    "width = 6\n",
    "height = 4\n",
    "width * height"
   ]
  },
  {
   "cell_type": "code",
   "execution_count": 18,
   "id": "1e800852-1489-41a7-bbdf-5c0f040d48b2",
   "metadata": {},
   "outputs": [
    {
     "data": {
      "text/plain": [
       "12.5625"
      ]
     },
     "execution_count": 18,
     "metadata": {},
     "output_type": "execute_result"
    }
   ],
   "source": [
    "tax = 12.5 / 100\n",
    "price = 100.50\n",
    "price * tax"
   ]
  },
  {
   "cell_type": "code",
   "execution_count": 21,
   "id": "70e4330b-d7ba-4fda-a054-d47fa6d45984",
   "metadata": {},
   "outputs": [
    {
     "data": {
      "text/plain": [
       "213.5625"
      ]
     },
     "execution_count": 21,
     "metadata": {},
     "output_type": "execute_result"
    }
   ],
   "source": [
    "price + _ # the last printed expression is assigned to the variable _"
   ]
  },
  {
   "cell_type": "code",
   "execution_count": 22,
   "id": "f12863ce-1dd6-43ed-915f-879241a52008",
   "metadata": {},
   "outputs": [
    {
     "data": {
      "text/plain": [
       "213.56"
      ]
     },
     "execution_count": 22,
     "metadata": {},
     "output_type": "execute_result"
    }
   ],
   "source": [
    "round(_,2)"
   ]
  },
  {
   "cell_type": "markdown",
   "id": "8e21355b-7a2c-4774-ad44-559c29206f90",
   "metadata": {},
   "source": [
    "3.1.2 Text"
   ]
  },
  {
   "cell_type": "code",
   "execution_count": 28,
   "id": "1a2563c4-813f-4d16-974d-e5bd1dddc53b",
   "metadata": {},
   "outputs": [
    {
     "data": {
      "text/plain": [
       "'Paris rabbit got your back :)! Yay'"
      ]
     },
     "execution_count": 28,
     "metadata": {},
     "output_type": "execute_result"
    }
   ],
   "source": [
    "\"Paris rabbit got your back :)! Yay\"   #double quotes"
   ]
  },
  {
   "cell_type": "code",
   "execution_count": 30,
   "id": "57e01148-a9b5-4994-a8a6-f7534dcb0a96",
   "metadata": {},
   "outputs": [
    {
     "data": {
      "text/plain": [
       "'spam eggs'"
      ]
     },
     "execution_count": 30,
     "metadata": {},
     "output_type": "execute_result"
    }
   ],
   "source": [
    "'spam eggs'"
   ]
  },
  {
   "cell_type": "code",
   "execution_count": 27,
   "id": "f2aeb750-66f3-4553-ba49-06c4c92fd983",
   "metadata": {},
   "outputs": [
    {
     "data": {
      "text/plain": [
       "'1975'"
      ]
     },
     "execution_count": 27,
     "metadata": {},
     "output_type": "execute_result"
    }
   ],
   "source": [
    "'1975'"
   ]
  },
  {
   "cell_type": "code",
   "execution_count": 34,
   "id": "68a440fc-be91-4951-9eb2-15f46ff8c62c",
   "metadata": {},
   "outputs": [
    {
     "data": {
      "text/plain": [
       "\"doesn't\""
      ]
     },
     "execution_count": 34,
     "metadata": {},
     "output_type": "execute_result"
    }
   ],
   "source": [
    "'doesn\\'t'"
   ]
  },
  {
   "cell_type": "code",
   "execution_count": 35,
   "id": "ef62ef55-f327-456d-933d-384e80d0150b",
   "metadata": {},
   "outputs": [
    {
     "data": {
      "text/plain": [
       "\"doesn't\""
      ]
     },
     "execution_count": 35,
     "metadata": {},
     "output_type": "execute_result"
    }
   ],
   "source": [
    "\"doesn't\""
   ]
  },
  {
   "cell_type": "code",
   "execution_count": null,
   "id": "9b74a398-9311-4975-bec1-71311a64bbbf",
   "metadata": {},
   "outputs": [],
   "source": []
  }
 ],
 "metadata": {
  "kernelspec": {
   "display_name": "Python 3 (ipykernel)",
   "language": "python",
   "name": "python3"
  },
  "language_info": {
   "codemirror_mode": {
    "name": "ipython",
    "version": 3
   },
   "file_extension": ".py",
   "mimetype": "text/x-python",
   "name": "python",
   "nbconvert_exporter": "python",
   "pygments_lexer": "ipython3",
   "version": "3.13.5"
  }
 },
 "nbformat": 4,
 "nbformat_minor": 5
}
